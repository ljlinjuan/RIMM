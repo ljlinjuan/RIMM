{
 "cells": [
  {
   "cell_type": "markdown",
   "metadata": {},
   "source": [
    "## MFE5310 "
   ]
  },
  {
   "cell_type": "markdown",
   "metadata": {},
   "source": [
    "By Linjuan 218040004\n",
    "\n",
    "\n",
    "In this notebook, I use CNN、HMM and LSTM to predict the movement direction (up/down) of SSE Composite Index('000001.SS').\n",
    "\n",
    "* Dataset: daily, SSE Composite Index('000001.SS'), from 20160101 to 20190310\n",
    "<br />\n",
    "\n",
    "* Features: \n",
    "    \n",
    "    I define 3 types of features:\n",
    "    \n",
    "    1. Momentumn: 5-days', 10-days', 20-days' momentumn;\n",
    "    \n",
    "    \n",
    "    2. Change intraday: \n",
    "    \n",
    "    chg_intraday = (high-low)/(close-open)-1, \n",
    "    \n",
    "    frac_change = (close - open) / open,\n",
    "    \n",
    "    frac_high = (high - open) / open，\n",
    "    \n",
    "    frac_low = (open - low) / open\n",
    "    \n",
    "    \n",
    "    3. Price: OHLC, sma；\n",
    "<br />\n",
    "\n",
    "* Class imbalance checking:\n",
    "    \n",
    "    Positive case: Negative case =  52%:48%，which shows my dataset doesn't have class imbalance problem.\n",
    "<br />\n",
    "\n",
    "* Tune the parameters:\n",
    "\n",
    "    CNN:\n",
    "    \n",
    "    batch_size = [64, 1024]\n",
    "    \n",
    "    epochs = [20, 50, 100]\n",
    "    \n",
    "    optimizer = ['SGD', 'RMSprop', 'Adam', 'Adamax', 'Nadam']\n",
    "    \n",
    "    learn_rate = [0.01, 0.1, 0.2, 0.3]\n",
    "    \n",
    "    weight initialization = ['uniform', 'lecun_uniform', 'normal', 'zero']\n",
    "    \n",
    "    Best parameters: {'batch_size': 1024, 'epochs': 50, 'optimizer': 'RMSprop', 'learn_rate': 0.01, 'init_mode': 'uniform'}\n",
    "\n",
    "    \n",
    "    LSTM:\n",
    "    \n",
    "    batch_size = [64, 256, 1024]\n",
    "    \n",
    "    epochs = [20, 50, 100]\n",
    "\n",
    "    neurons = [1,10,30,60]\n",
    "    \n",
    "    Best parameters: {'batch_size': 32, 'epochs': 100, 'neurons':1}\n",
    "    \n",
    "\n",
    "* Conclusion:\n",
    "\n",
    "\n",
    "![title](result.png)\n",
    "\n",
    "    HMM performs the best for my dataset with the accuracy 51%, precision 51%, recall 99%, f167%,auc 50%."
   ]
  },
  {
   "cell_type": "markdown",
   "metadata": {},
   "source": [
    "### Import The Libraries"
   ]
  },
  {
   "cell_type": "code",
   "execution_count": 1,
   "metadata": {},
   "outputs": [],
   "source": [
    "from pandas_datareader import data as web\n",
    "import numpy as np\n",
    "import pandas as pd\n",
    "from sklearn import mixture as mix\n",
    "import seaborn as sns \n",
    "import matplotlib.pyplot as plt\n",
    "import talib as ta\n",
    "from sklearn.preprocessing import StandardScaler\n",
    "import fix_yahoo_finance\n",
    "from sklearn import metrics"
   ]
  },
  {
   "cell_type": "markdown",
   "metadata": {},
   "source": [
    "### Import The Data\n",
    "\n",
    "Analyze SSE Composite Index('000001.SS'), from 20160101 to 20190310"
   ]
  },
  {
   "cell_type": "code",
   "execution_count": 2,
   "metadata": {},
   "outputs": [],
   "source": [
    "df = web.get_data_yahoo('000001.SS',start= '2016-01-01', end='2019-03-10')"
   ]
  },
  {
   "cell_type": "code",
   "execution_count": 3,
   "metadata": {},
   "outputs": [
    {
     "data": {
      "text/html": [
       "<div>\n",
       "<style scoped>\n",
       "    .dataframe tbody tr th:only-of-type {\n",
       "        vertical-align: middle;\n",
       "    }\n",
       "\n",
       "    .dataframe tbody tr th {\n",
       "        vertical-align: top;\n",
       "    }\n",
       "\n",
       "    .dataframe thead th {\n",
       "        text-align: right;\n",
       "    }\n",
       "</style>\n",
       "<table border=\"1\" class=\"dataframe\">\n",
       "  <thead>\n",
       "    <tr style=\"text-align: right;\">\n",
       "      <th></th>\n",
       "      <th>High</th>\n",
       "      <th>Low</th>\n",
       "      <th>Open</th>\n",
       "      <th>Close</th>\n",
       "      <th>Volume</th>\n",
       "      <th>Adj Close</th>\n",
       "    </tr>\n",
       "    <tr>\n",
       "      <th>Date</th>\n",
       "      <th></th>\n",
       "      <th></th>\n",
       "      <th></th>\n",
       "      <th></th>\n",
       "      <th></th>\n",
       "      <th></th>\n",
       "    </tr>\n",
       "  </thead>\n",
       "  <tbody>\n",
       "    <tr>\n",
       "      <th>2019-03-05</th>\n",
       "      <td>3054.961914</td>\n",
       "      <td>3009.447998</td>\n",
       "      <td>3019.879883</td>\n",
       "      <td>3054.247070</td>\n",
       "      <td>424100</td>\n",
       "      <td>3054.247070</td>\n",
       "    </tr>\n",
       "    <tr>\n",
       "      <th>2019-03-06</th>\n",
       "      <td>3103.824951</td>\n",
       "      <td>3050.111084</td>\n",
       "      <td>3060.433105</td>\n",
       "      <td>3102.099121</td>\n",
       "      <td>555000</td>\n",
       "      <td>3102.099121</td>\n",
       "    </tr>\n",
       "    <tr>\n",
       "      <th>2019-03-07</th>\n",
       "      <td>3129.939941</td>\n",
       "      <td>3074.978027</td>\n",
       "      <td>3103.667969</td>\n",
       "      <td>3106.417969</td>\n",
       "      <td>583800</td>\n",
       "      <td>3106.417969</td>\n",
       "    </tr>\n",
       "    <tr>\n",
       "      <th>2019-03-08</th>\n",
       "      <td>3075.045898</td>\n",
       "      <td>2969.582031</td>\n",
       "      <td>3038.335938</td>\n",
       "      <td>2969.861084</td>\n",
       "      <td>577900</td>\n",
       "      <td>2969.861084</td>\n",
       "    </tr>\n",
       "    <tr>\n",
       "      <th>2019-03-11</th>\n",
       "      <td>3028.253906</td>\n",
       "      <td>2963.583008</td>\n",
       "      <td>2969.080078</td>\n",
       "      <td>3026.992920</td>\n",
       "      <td>426200</td>\n",
       "      <td>3026.992920</td>\n",
       "    </tr>\n",
       "  </tbody>\n",
       "</table>\n",
       "</div>"
      ],
      "text/plain": [
       "                   High          Low         Open        Close  Volume  \\\n",
       "Date                                                                     \n",
       "2019-03-05  3054.961914  3009.447998  3019.879883  3054.247070  424100   \n",
       "2019-03-06  3103.824951  3050.111084  3060.433105  3102.099121  555000   \n",
       "2019-03-07  3129.939941  3074.978027  3103.667969  3106.417969  583800   \n",
       "2019-03-08  3075.045898  2969.582031  3038.335938  2969.861084  577900   \n",
       "2019-03-11  3028.253906  2963.583008  2969.080078  3026.992920  426200   \n",
       "\n",
       "              Adj Close  \n",
       "Date                     \n",
       "2019-03-05  3054.247070  \n",
       "2019-03-06  3102.099121  \n",
       "2019-03-07  3106.417969  \n",
       "2019-03-08  2969.861084  \n",
       "2019-03-11  3026.992920  "
      ]
     },
     "execution_count": 3,
     "metadata": {},
     "output_type": "execute_result"
    }
   ],
   "source": [
    "df.tail()"
   ]
  },
  {
   "cell_type": "markdown",
   "metadata": {},
   "source": [
    "### Define Features"
   ]
  },
  {
   "cell_type": "code",
   "execution_count": 145,
   "metadata": {},
   "outputs": [],
   "source": [
    "adj_close = df['Adj Close']\n",
    "ope      = df['Open']\n",
    "close     = df['Close']\n",
    "high      = df['High']\n",
    "low       = df['Low']\n",
    "volume    = df['Volume']\n",
    "\n",
    "\n",
    "# Feature1: momentum\n",
    "def calc_momentum(adj_close, window):\n",
    "    return adj_close/adj_close.shift(window)-1\n",
    "\n",
    "momentum_5  = calc_momentum(adj_close, 5 )\n",
    "momentum_10 = calc_momentum(adj_close, 10)\n",
    "momentum_20 = calc_momentum(adj_close, 20)\n",
    "\n",
    "vol_ma = volume.rolling(window = 10).mean()\n",
    "chg_intraday = (high-low)/(close-ope)-1\n",
    "chg_intraday = chg_intraday.replace(np.inf, 0)\n",
    "\n",
    "sma = adj_close.rolling(window = 10).mean()\n",
    "\n",
    "frac_change = (close - ope) / ope\n",
    "frac_high = (high - ope) / ope\n",
    "frac_low = (ope - low) / ope"
   ]
  },
  {
   "cell_type": "markdown",
   "metadata": {},
   "source": [
    "### Implement machine learning algorithms"
   ]
  },
  {
   "cell_type": "markdown",
   "metadata": {},
   "source": [
    "Initialize an empty dataframe to store evaluation results."
   ]
  },
  {
   "cell_type": "code",
   "execution_count": 264,
   "metadata": {},
   "outputs": [],
   "source": [
    "col = ['Accuracy','Precision','Recall','F1','ROC/AUC']\n",
    "index = ['CNN','HMM','LSTM']\n",
    "result = pd.DataFrame(np.nan,index = index, columns = col)"
   ]
  },
  {
   "cell_type": "markdown",
   "metadata": {},
   "source": [
    "### ========================== Convolutional Neural Network (CNN) ============================="
   ]
  },
  {
   "cell_type": "code",
   "execution_count": 6,
   "metadata": {},
   "outputs": [
    {
     "name": "stderr",
     "output_type": "stream",
     "text": [
      "Using TensorFlow backend.\n"
     ]
    }
   ],
   "source": [
    "import keras\n",
    "from keras.models import Sequential\n",
    "from keras.layers import Dense, Dropout, Flatten\n",
    "from keras.layers import Conv2D, MaxPooling2D\n",
    "from sklearn.metrics import roc_curve, auc, accuracy_score\n",
    "from keras.wrappers.scikit_learn import KerasClassifier\n",
    "from sklearn.model_selection import GridSearchCV,TimeSeriesSplit\n",
    "import time"
   ]
  },
  {
   "cell_type": "markdown",
   "metadata": {},
   "source": [
    "### Generate picture samples "
   ]
  },
  {
   "cell_type": "code",
   "execution_count": 7,
   "metadata": {},
   "outputs": [],
   "source": [
    "def scale_list(l, to_min, to_max):\n",
    "    # map the number in l to [to_min, to_max]\n",
    "    # step1: map the number in l to [0, 1]\n",
    "    # step2: multiply the new l in step 1 by (to_max - to_min)\n",
    "    def scale_number(unscaled, to_min, to_max, from_min, from_max):\n",
    "        return (to_max-to_min)*(unscaled-from_min)/(from_max-from_min)+to_min\n",
    "\n",
    "    if len(set(l)) == 1:\n",
    "        return [np.floor((to_max + to_min)/2)] * len(l)\n",
    "    else:\n",
    "        return [scale_number(i, to_min, to_max, min(l), max(l)) for i in l]\n",
    "\n",
    "def df2pic_join(*args):\n",
    "\n",
    "    pic = []\n",
    "    for each in args:\n",
    "        height = int(len(each)/2)\n",
    "        scaled_each = np.array(np.round(scale_list(each, 0, height - 1), 0))\n",
    "        scaled_each = height-scaled_each-1\n",
    "        blank_matrix = np.zeros(shape=(height, len(each)))\n",
    "        for i,d in enumerate(scaled_each):\n",
    "            blank_matrix[int(d), i] = 1\n",
    "\n",
    "        pic.append(blank_matrix)\n",
    "    return np.vstack(pic)\n",
    "\n",
    "def df2pic_overlap(*args):\n",
    "    count = 0\n",
    "    df = []\n",
    "    for each in args:\n",
    "        count += 1\n",
    "        df = df+list(each)\n",
    "\n",
    "    width = int(len(df) / count)\n",
    "    height = int(width / 2)\n",
    "    scaled_df = np.array(np.round(scale_list(df, 0, height- 1), 0))\n",
    "    scaled_df = height-scaled_df-1\n",
    "\n",
    "    blank_matrix = np.zeros(shape=(height, width))\n",
    "    scaled_df_val = scaled_df.reshape(width,count,order='F')\n",
    "    for i in range(width):\n",
    "        for c,j in enumerate(scaled_df_val[i,:]):\n",
    "            blank_matrix[int(j),i] += c+1\n",
    "    return blank_matrix"
   ]
  },
  {
   "cell_type": "code",
   "execution_count": 8,
   "metadata": {},
   "outputs": [],
   "source": [
    "x = []\n",
    "y = []\n",
    "tr = 20\n",
    "nDay = len(close)\n",
    "\n",
    "for cnt in range(tr+5,nDay-1):\n",
    "    if np.isnan(np.array(momentum_20[cnt-tr:cnt]+sma[cnt-tr:cnt]+\n",
    "                        vol_ma[cnt - tr:cnt]+chg_intraday[cnt-tr:cnt])).any():\n",
    "        continue\n",
    "\n",
    "    pic_overlap1 = df2pic_overlap(momentum_5[cnt-tr:cnt],momentum_20[cnt-tr:cnt])\n",
    "    pic_overlap2 = df2pic_overlap(volume[cnt - tr:cnt], vol_ma[cnt - tr:cnt])\n",
    "        \n",
    "    pic_join = df2pic_join(chg_intraday[cnt-tr:cnt])\n",
    "                          \n",
    "\n",
    "    pic = np.vstack([pic_overlap1,pic_overlap2, pic_join])\n",
    "    x.append(pic)\n",
    "    if len(x)%1000 ==0:\n",
    "        print('length of successful samples:'+ str(len(x)))\n",
    "\n",
    "    y.append(int(close[cnt+1]>close[cnt]))"
   ]
  },
  {
   "cell_type": "code",
   "execution_count": 9,
   "metadata": {},
   "outputs": [
    {
     "data": {
      "text/plain": [
       "<matplotlib.image.AxesImage at 0x1a29500518>"
      ]
     },
     "execution_count": 9,
     "metadata": {},
     "output_type": "execute_result"
    },
    {
     "data": {
      "image/png": "[encoded data removed]",
      "text/plain": [
       "<Figure size 432x288 with 1 Axes>"
      ]
     },
     "metadata": {
      "needs_background": "light"
     },
     "output_type": "display_data"
    }
   ],
   "source": [
    "plt.imshow(pic.T)"
   ]
  },
  {
   "cell_type": "markdown",
   "metadata": {},
   "source": [
    "### Check if the dataset has class imbalance issue"
   ]
  },
  {
   "cell_type": "code",
   "execution_count": 10,
   "metadata": {},
   "outputs": [
    {
     "name": "stdout",
     "output_type": "stream",
     "text": [
      "Positive case : Negative case =  0.5367847411444142 : 0.4632152588555858\n"
     ]
    }
   ],
   "source": [
    "print('Positive case : Negative case = ',\n",
    "      str(sum(y)/len(y)),':',str(1-sum(y)/len(y)))"
   ]
  },
  {
   "cell_type": "markdown",
   "metadata": {},
   "source": [
    "The numbers of samples in these two classes are close.\n",
    "\n",
    "This dataset doesn't have class imbalance problem."
   ]
  },
  {
   "cell_type": "markdown",
   "metadata": {},
   "source": [
    "### Split The Dataset"
   ]
  },
  {
   "cell_type": "code",
   "execution_count": 11,
   "metadata": {},
   "outputs": [],
   "source": [
    "split = int(0.7*len(x))\n",
    "x_train, x_valid, y_train, y_valid = x[:split], x[split:], y[:split], y[split:]"
   ]
  },
  {
   "cell_type": "code",
   "execution_count": 12,
   "metadata": {},
   "outputs": [],
   "source": [
    "# input image dimensions\n",
    "img_rows, img_cols = pic.shape\n",
    "\n",
    "# add fake depth channel\n",
    "x_train_mod = np.array(x_train).reshape(np.array(x_train).shape[0], img_rows, img_cols, 1)\n",
    "x_valid = np.array(x_valid).reshape(np.array(x_valid).shape[0], img_rows, img_cols, 1)"
   ]
  },
  {
   "cell_type": "markdown",
   "metadata": {},
   "source": [
    "### Creat cnn model"
   ]
  },
  {
   "cell_type": "code",
   "execution_count": 38,
   "metadata": {},
   "outputs": [],
   "source": [
    "from keras.optimizers import SGD\n",
    "\n",
    "input_shape = (img_rows, img_cols, 1)\n",
    "def create_cnn(optimizer='adam',init_mode='uniform',sgd=False,learn_rate=0.01):\n",
    "    model = Sequential()\n",
    "    model.add(Conv2D(64, (5, 5), input_shape=input_shape, activation='relu'))\n",
    "    model.add(Conv2D(32, (3, 3), activation='relu'))\n",
    "#     model.add(Conv2D(10, (2, 2), activation='relu'))\n",
    "#     model.add(MaxPooling2D(pool_size=(2, 2)))\n",
    "#     model.add(Dropout(0.2))\n",
    "    model.add(Flatten())\n",
    "    model.add(Dense(128, kernel_initializer=init_mode, activation='relu'))\n",
    "#     model.add(Dense(50, kernel_initializer=init_mode, activation='relu'))\n",
    "    model.add(Dense(2, activation='softmax'))\n",
    "    if sgd:\n",
    "        optimizer = SGD(lr=learn_rate)\n",
    "    model.compile(loss='categorical_crossentropy', optimizer=optimizer, metrics=['accuracy'])\n",
    "    \n",
    "    return model"
   ]
  },
  {
   "cell_type": "markdown",
   "metadata": {},
   "source": [
    "### Tune parameters"
   ]
  },
  {
   "cell_type": "code",
   "execution_count": 39,
   "metadata": {},
   "outputs": [],
   "source": [
    "import warnings\n",
    "warnings.filterwarnings(\"ignore\")"
   ]
  },
  {
   "cell_type": "code",
   "execution_count": 40,
   "metadata": {},
   "outputs": [],
   "source": [
    "def grid_search(model, param_grid, x_train, mode=0):\n",
    "    if mode==0:\n",
    "        # Normal cv\n",
    "        cv_str = 'Normal cv'\n",
    "        cur_cv = 5\n",
    "        \n",
    "    elif mode==1:\n",
    "        # TimeSeriesSplit cv\n",
    "        cv_str = 'TimeSeriesSplit cv'\n",
    "        cur_cv = TimeSeriesSplit(n_splits=4).split(x_train)\n",
    "        \n",
    "    elif mode==2:\n",
    "        # TimeSeriesSplit cross validation with a fixed training size\n",
    "        cv_str = 'TimeSeriesSplit cv (fixed)'\n",
    "        cur_cv = TimeSeriesSplit(n_splits=4, max_train_size=int(len(x_train)/5*4)).split(x_train)\n",
    "        \n",
    "    clf = GridSearchCV(estimator=model, param_grid=param_grid, cv=cur_cv,\n",
    "                       scoring='precision', n_jobs=-1)\n",
    "    return cv_str,clf\n",
    "                \n",
    "    \n",
    "def grid_results_summary(grid_result):\n",
    "    print(\"\\n Best parameters set found on development set: \\n\")\n",
    "    \n",
    "    print(grid_result.best_params_)\n",
    "    print(\"\\n Grid scores on development set: \\n\")\n",
    "    means = grid_result.cv_results_['mean_test_score']\n",
    "    stds = grid_result.cv_results_['std_test_score']\n",
    "    for mean, std, params in zip(means, stds, grid_result.cv_results_['params']):\n",
    "        print(\"%0.3f (+/-%0.03f) for %r\"\n",
    "                % (mean, std * 2, params))\n",
    "\n",
    "    print(\"\\n Detailed classification report:\\n\")\n",
    "    print(\"The model is trained on the full development set.\")\n",
    "    print(\"The scores are computed on the full evaluation set.\\n\") "
   ]
  },
  {
   "cell_type": "markdown",
   "metadata": {},
   "source": [
    "* tune batch_size and epochs\n",
    "    \n",
    "    Normal cross validation"
   ]
  },
  {
   "cell_type": "code",
   "execution_count": 41,
   "metadata": {},
   "outputs": [],
   "source": [
    "model = KerasClassifier(build_fn=create_cnn, verbose=0)\n",
    "\n",
    "batch_size = [64, 1024]\n",
    "epochs = [20, 50, 100]\n",
    "\n",
    "param_grid = dict(batch_size=batch_size, epochs=epochs)\n",
    "\n",
    "cv_str, clf = grid_search(model, param_grid, x_train_mod, mode=0)"
   ]
  },
  {
   "cell_type": "code",
   "execution_count": 42,
   "metadata": {},
   "outputs": [
    {
     "name": "stdout",
     "output_type": "stream",
     "text": [
      "\n",
      "Normal cv\n",
      "\n",
      "cross validation time: 11.935525385538737minuts\n",
      "\n",
      " Best parameters set found on development set: \n",
      "\n",
      "{'batch_size': 64, 'epochs': 50}\n",
      "\n",
      " Grid scores on development set: \n",
      "\n",
      "0.570 (+/-0.015) for {'batch_size': 64, 'epochs': 20}\n",
      "0.600 (+/-0.041) for {'batch_size': 64, 'epochs': 50}\n",
      "0.598 (+/-0.082) for {'batch_size': 64, 'epochs': 100}\n",
      "0.557 (+/-0.050) for {'batch_size': 1024, 'epochs': 20}\n",
      "0.571 (+/-0.111) for {'batch_size': 1024, 'epochs': 50}\n",
      "0.596 (+/-0.067) for {'batch_size': 1024, 'epochs': 100}\n",
      "\n",
      " Detailed classification report:\n",
      "\n",
      "The model is trained on the full development set.\n",
      "The scores are computed on the full evaluation set.\n",
      "\n"
     ]
    }
   ],
   "source": [
    "tic = time.time()\n",
    "grid_result = clf.fit(x_train_mod, y_train)\n",
    "toc = time.time()\n",
    "print('\\n' + cv_str +'\\n')\n",
    "print('cross validation time: '+str((toc-tic)/60)+'minuts')\n",
    "grid_results_summary(grid_result)"
   ]
  },
  {
   "cell_type": "code",
   "execution_count": 43,
   "metadata": {},
   "outputs": [
    {
     "name": "stdout",
     "output_type": "stream",
     "text": [
      "              precision    recall  f1-score   support\n",
      "\n",
      "           0       0.61      0.36      0.46       118\n",
      "           1       0.50      0.73      0.59       103\n",
      "\n",
      "   micro avg       0.53      0.53      0.53       221\n",
      "   macro avg       0.55      0.55      0.52       221\n",
      "weighted avg       0.56      0.53      0.52       221\n",
      "\n",
      "Accuracy: 0.5339366515837104\n",
      "\n",
      "Precision: 0.49077450248209814\n",
      "\n",
      "Recall: 0.7281553398058253\n",
      "\n",
      "F1 score: 0.592885375494071\n",
      "\n",
      "ROC/AUC: 0.5462810597334211\n",
      "\n"
     ]
    }
   ],
   "source": [
    "y_true, y_pred = y_valid, grid_result.predict(x_valid)\n",
    "print(metrics.classification_report(y_true, y_pred))\n",
    "print('Accuracy: '+ str(metrics.accuracy_score(y_true, y_pred))+'\\n')\n",
    "print('Precision: ' + str(metrics.average_precision_score(y_true, y_pred))+'\\n')\n",
    "print('Recall: ' + str(metrics.recall_score(y_true, y_pred)) +'\\n')\n",
    "print('F1 score: '+ str(metrics.f1_score(y_true, y_pred))+'\\n')\n",
    "print('ROC/AUC: '+ str(metrics.roc_auc_score(y_true, y_pred))+'\\n')"
   ]
  },
  {
   "cell_type": "markdown",
   "metadata": {},
   "source": [
    "* tune batch_size and epochs\n",
    "    \n",
    "    TimeSeriesSplit cross validation"
   ]
  },
  {
   "cell_type": "code",
   "execution_count": 44,
   "metadata": {},
   "outputs": [
    {
     "name": "stdout",
     "output_type": "stream",
     "text": [
      "\n",
      "TimeSeriesSplit cv\n",
      "\n",
      "cross validation time: 5.542277149359385minuts\n",
      "\n",
      " Best parameters set found on development set: \n",
      "\n",
      "{'batch_size': 1024, 'epochs': 50}\n",
      "\n",
      " Grid scores on development set: \n",
      "\n",
      "0.588 (+/-0.040) for {'batch_size': 64, 'epochs': 20}\n",
      "0.597 (+/-0.074) for {'batch_size': 64, 'epochs': 50}\n",
      "0.578 (+/-0.063) for {'batch_size': 64, 'epochs': 100}\n",
      "0.587 (+/-0.052) for {'batch_size': 1024, 'epochs': 20}\n",
      "0.612 (+/-0.081) for {'batch_size': 1024, 'epochs': 50}\n",
      "0.600 (+/-0.066) for {'batch_size': 1024, 'epochs': 100}\n",
      "\n",
      " Detailed classification report:\n",
      "\n",
      "The model is trained on the full development set.\n",
      "The scores are computed on the full evaluation set.\n",
      "\n"
     ]
    }
   ],
   "source": [
    "cv_str, clf = grid_search(model, param_grid, x_train_mod, mode=1)\n",
    "tic = time.time()\n",
    "grid_result = clf.fit(x_train_mod, y_train)\n",
    "toc = time.time()\n",
    "print('\\n' + cv_str +'\\n')\n",
    "print('cross validation time: '+str((toc-tic)/60)+'minuts')\n",
    "grid_results_summary(grid_result)"
   ]
  },
  {
   "cell_type": "code",
   "execution_count": 45,
   "metadata": {},
   "outputs": [
    {
     "name": "stdout",
     "output_type": "stream",
     "text": [
      "              precision    recall  f1-score   support\n",
      "\n",
      "           0       0.55      0.35      0.43       118\n",
      "           1       0.48      0.68      0.56       103\n",
      "\n",
      "   micro avg       0.50      0.50      0.50       221\n",
      "   macro avg       0.52      0.51      0.49       221\n",
      "weighted avg       0.52      0.50      0.49       221\n",
      "\n",
      "Accuracy: 0.502262443438914\n",
      "\n",
      "Precision: 0.4729458624375814\n",
      "\n",
      "Recall: 0.6796116504854369\n",
      "\n",
      "F1 score: 0.5599999999999999\n",
      "\n",
      "ROC/AUC: 0.5135346388020405\n",
      "\n"
     ]
    }
   ],
   "source": [
    "y_true, y_pred = y_valid, grid_result.predict(x_valid)\n",
    "print(metrics.classification_report(y_true, y_pred))\n",
    "print('Accuracy: '+ str(metrics.accuracy_score(y_true, y_pred))+'\\n')\n",
    "print('Precision: ' + str(metrics.average_precision_score(y_true, y_pred))+'\\n')\n",
    "print('Recall: ' + str(metrics.recall_score(y_true, y_pred)) +'\\n')\n",
    "print('F1 score: '+ str(metrics.f1_score(y_true, y_pred))+'\\n')\n",
    "print('ROC/AUC: '+ str(metrics.roc_auc_score(y_true, y_pred))+'\\n')"
   ]
  },
  {
   "cell_type": "markdown",
   "metadata": {},
   "source": [
    "* tune batch_size and epochs\n",
    "    \n",
    "    TimeSeriesSplit cross validation with a fixed training size"
   ]
  },
  {
   "cell_type": "code",
   "execution_count": 46,
   "metadata": {},
   "outputs": [
    {
     "name": "stdout",
     "output_type": "stream",
     "text": [
      "\n",
      "TimeSeriesSplit cv (fixed)\n",
      "\n",
      "cross validation time: 5.530984882513682minuts\n",
      "\n",
      " Best parameters set found on development set: \n",
      "\n",
      "{'batch_size': 1024, 'epochs': 50}\n",
      "\n",
      " Grid scores on development set: \n",
      "\n",
      "0.605 (+/-0.072) for {'batch_size': 64, 'epochs': 20}\n",
      "0.598 (+/-0.065) for {'batch_size': 64, 'epochs': 50}\n",
      "0.604 (+/-0.099) for {'batch_size': 64, 'epochs': 100}\n",
      "0.566 (+/-0.104) for {'batch_size': 1024, 'epochs': 20}\n",
      "0.606 (+/-0.048) for {'batch_size': 1024, 'epochs': 50}\n",
      "0.592 (+/-0.068) for {'batch_size': 1024, 'epochs': 100}\n",
      "\n",
      " Detailed classification report:\n",
      "\n",
      "The model is trained on the full development set.\n",
      "The scores are computed on the full evaluation set.\n",
      "\n"
     ]
    }
   ],
   "source": [
    "cv_str, clf = grid_search(model, param_grid, x_train_mod, mode=2)\n",
    "tic = time.time()\n",
    "grid_result = clf.fit(x_train_mod, y_train)\n",
    "toc = time.time()\n",
    "print('\\n' + cv_str +'\\n')\n",
    "print('cross validation time: '+str((toc-tic)/60)+'minuts')\n",
    "grid_results_summary(grid_result)"
   ]
  },
  {
   "cell_type": "code",
   "execution_count": 47,
   "metadata": {},
   "outputs": [
    {
     "name": "stdout",
     "output_type": "stream",
     "text": [
      "              precision    recall  f1-score   support\n",
      "\n",
      "           0       0.54      0.38      0.45       118\n",
      "           1       0.47      0.63      0.54       103\n",
      "\n",
      "   micro avg       0.50      0.50      0.50       221\n",
      "   macro avg       0.51      0.51      0.49       221\n",
      "weighted avg       0.51      0.50      0.49       221\n",
      "\n",
      "Accuracy: 0.497737556561086\n",
      "\n",
      "Precision: 0.4691878569786846\n",
      "\n",
      "Recall: 0.6310679611650486\n",
      "\n",
      "F1 score: 0.5394190871369294\n",
      "\n",
      "ROC/AUC: 0.5062119466842192\n",
      "\n"
     ]
    }
   ],
   "source": [
    "y_true, y_pred = y_valid, grid_result.predict(x_valid)\n",
    "print(metrics.classification_report(y_true, y_pred))\n",
    "print('Accuracy: '+ str(metrics.accuracy_score(y_true, y_pred))+'\\n')\n",
    "print('Precision: ' + str(metrics.average_precision_score(y_true, y_pred))+'\\n')\n",
    "print('Recall: ' + str(metrics.recall_score(y_true, y_pred)) +'\\n')\n",
    "print('F1 score: '+ str(metrics.f1_score(y_true, y_pred))+'\\n')\n",
    "print('ROC/AUC: '+ str(metrics.roc_auc_score(y_true, y_pred))+'\\n')"
   ]
  },
  {
   "cell_type": "markdown",
   "metadata": {},
   "source": [
    "* tune optimizer\n",
    "\n",
    "    TimeSeriesSplit cross validation"
   ]
  },
  {
   "cell_type": "code",
   "execution_count": 48,
   "metadata": {},
   "outputs": [],
   "source": [
    "model = KerasClassifier(build_fn=create_cnn, epochs=50, batch_size=1024, verbose=0)\n",
    "optimizer = ['SGD', 'RMSprop', 'Adam', 'Adamax', 'Nadam']\n",
    "param_grid = dict(optimizer=optimizer)"
   ]
  },
  {
   "cell_type": "code",
   "execution_count": 49,
   "metadata": {},
   "outputs": [
    {
     "name": "stdout",
     "output_type": "stream",
     "text": [
      "\n",
      "TimeSeriesSplit cv\n",
      "\n",
      "cross validation time: 4.320262495676676minuts\n",
      "\n",
      " Best parameters set found on development set: \n",
      "\n",
      "{'optimizer': 'RMSprop'}\n",
      "\n",
      " Grid scores on development set: \n",
      "\n",
      "0.583 (+/-0.062) for {'optimizer': 'SGD'}\n",
      "0.603 (+/-0.073) for {'optimizer': 'RMSprop'}\n",
      "0.593 (+/-0.046) for {'optimizer': 'Adam'}\n",
      "0.586 (+/-0.045) for {'optimizer': 'Adamax'}\n",
      "0.586 (+/-0.054) for {'optimizer': 'Nadam'}\n",
      "\n",
      " Detailed classification report:\n",
      "\n",
      "The model is trained on the full development set.\n",
      "The scores are computed on the full evaluation set.\n",
      "\n"
     ]
    }
   ],
   "source": [
    "cv_str, clf = grid_search(model, param_grid, x_train_mod, mode=1)\n",
    "tic = time.time()\n",
    "grid_result = clf.fit(x_train_mod, y_train)\n",
    "toc = time.time()\n",
    "print('\\n' + cv_str +'\\n')\n",
    "print('cross validation time: '+str((toc-tic)/60)+'minuts')\n",
    "grid_results_summary(grid_result)"
   ]
  },
  {
   "cell_type": "code",
   "execution_count": 50,
   "metadata": {},
   "outputs": [
    {
     "name": "stdout",
     "output_type": "stream",
     "text": [
      "              precision    recall  f1-score   support\n",
      "\n",
      "           0       0.55      0.19      0.29       118\n",
      "           1       0.47      0.82      0.60       103\n",
      "\n",
      "   micro avg       0.48      0.48      0.48       221\n",
      "   macro avg       0.51      0.51      0.44       221\n",
      "weighted avg       0.51      0.48      0.43       221\n",
      "\n",
      "Accuracy: 0.4841628959276018\n",
      "\n",
      "Precision: 0.4686815343040517\n",
      "\n",
      "Recall: 0.8155339805825242\n",
      "\n",
      "F1 score: 0.5957446808510638\n",
      "\n",
      "ROC/AUC: 0.5052246174099062\n",
      "\n"
     ]
    }
   ],
   "source": [
    "y_true, y_pred = y_valid, grid_result.predict(x_valid)\n",
    "print(metrics.classification_report(y_true, y_pred))\n",
    "print('Accuracy: '+ str(metrics.accuracy_score(y_true, y_pred))+'\\n')\n",
    "print('Precision: ' + str(metrics.average_precision_score(y_true, y_pred))+'\\n')\n",
    "print('Recall: ' + str(metrics.recall_score(y_true, y_pred)) +'\\n')\n",
    "print('F1 score: '+ str(metrics.f1_score(y_true, y_pred))+'\\n')\n",
    "print('ROC/AUC: '+ str(metrics.roc_auc_score(y_true, y_pred))+'\\n')"
   ]
  },
  {
   "cell_type": "markdown",
   "metadata": {},
   "source": [
    "* tune learning rate\n",
    "\n",
    "    TimeSeriesSplit cross validation"
   ]
  },
  {
   "cell_type": "code",
   "execution_count": 51,
   "metadata": {},
   "outputs": [],
   "source": [
    "model = KerasClassifier(build_fn=create_cnn, epochs=50, batch_size=1024, sgd=True, verbose=0)\n",
    "\n",
    "learn_rate = [0.01, 0.1, 0.2, 0.3]\n",
    "param_grid = dict(learn_rate=learn_rate)"
   ]
  },
  {
   "cell_type": "code",
   "execution_count": 52,
   "metadata": {},
   "outputs": [
    {
     "name": "stdout",
     "output_type": "stream",
     "text": [
      "\n",
      "TimeSeriesSplit cv\n",
      "\n",
      "cross validation time: 3.4185622493426004minuts\n",
      "\n",
      " Best parameters set found on development set: \n",
      "\n",
      "{'learn_rate': 0.01}\n",
      "\n",
      " Grid scores on development set: \n",
      "\n",
      "0.587 (+/-0.046) for {'learn_rate': 0.01}\n",
      "0.429 (+/-0.499) for {'learn_rate': 0.1}\n",
      "0.296 (+/-0.593) for {'learn_rate': 0.2}\n",
      "0.140 (+/-0.484) for {'learn_rate': 0.3}\n",
      "\n",
      " Detailed classification report:\n",
      "\n",
      "The model is trained on the full development set.\n",
      "The scores are computed on the full evaluation set.\n",
      "\n"
     ]
    }
   ],
   "source": [
    "cv_str, clf = grid_search(model, param_grid, x_train_mod, mode=1)\n",
    "tic = time.time()\n",
    "grid_result = clf.fit(x_train_mod, y_train)\n",
    "toc = time.time()\n",
    "print('\\n' + cv_str +'\\n')\n",
    "print('cross validation time: '+str((toc-tic)/60)+'minuts')\n",
    "grid_results_summary(grid_result)"
   ]
  },
  {
   "cell_type": "code",
   "execution_count": 53,
   "metadata": {},
   "outputs": [
    {
     "name": "stdout",
     "output_type": "stream",
     "text": [
      "              precision    recall  f1-score   support\n",
      "\n",
      "           0       0.60      0.05      0.09       118\n",
      "           1       0.47      0.96      0.63       103\n",
      "\n",
      "   micro avg       0.48      0.48      0.48       221\n",
      "   macro avg       0.53      0.51      0.36       221\n",
      "weighted avg       0.54      0.48      0.34       221\n",
      "\n",
      "Accuracy: 0.4751131221719457\n",
      "\n",
      "Precision: 0.46907272194650296\n",
      "\n",
      "Recall: 0.9611650485436893\n",
      "\n",
      "F1 score: 0.6305732484076433\n",
      "\n",
      "ROC/AUC: 0.506006253085404\n",
      "\n"
     ]
    }
   ],
   "source": [
    "y_true, y_pred = y_valid, grid_result.predict(x_valid)\n",
    "print(metrics.classification_report(y_true, y_pred))\n",
    "print('Accuracy: '+ str(metrics.accuracy_score(y_true, y_pred))+'\\n')\n",
    "print('Precision: ' + str(metrics.average_precision_score(y_true, y_pred))+'\\n')\n",
    "print('Recall: ' + str(metrics.recall_score(y_true, y_pred)) +'\\n')\n",
    "print('F1 score: '+ str(metrics.f1_score(y_true, y_pred))+'\\n')\n",
    "print('ROC/AUC: '+ str(metrics.roc_auc_score(y_true, y_pred))+'\\n')"
   ]
  },
  {
   "cell_type": "markdown",
   "metadata": {},
   "source": [
    "* tune weight initialization\n",
    "\n",
    "    TimeSeriesSplit cross validation"
   ]
  },
  {
   "cell_type": "code",
   "execution_count": 54,
   "metadata": {},
   "outputs": [],
   "source": [
    "model = KerasClassifier(build_fn=create_cnn, epochs=50, batch_size=1024, sgd=True, verbose=0)\n",
    "init_mode = ['uniform', 'lecun_uniform', 'normal', 'zero']\n",
    "param_grid = dict(init_mode=init_mode)"
   ]
  },
  {
   "cell_type": "code",
   "execution_count": 55,
   "metadata": {},
   "outputs": [
    {
     "name": "stdout",
     "output_type": "stream",
     "text": [
      "\n",
      "TimeSeriesSplit cv\n",
      "\n",
      "cross validation time: 3.6389451662699384minuts\n",
      "\n",
      " Best parameters set found on development set: \n",
      "\n",
      "{'init_mode': 'uniform'}\n",
      "\n",
      " Grid scores on development set: \n",
      "\n",
      "0.583 (+/-0.061) for {'init_mode': 'uniform'}\n",
      "0.581 (+/-0.047) for {'init_mode': 'lecun_uniform'}\n",
      "0.577 (+/-0.064) for {'init_mode': 'normal'}\n",
      "0.576 (+/-0.053) for {'init_mode': 'zero'}\n",
      "\n",
      " Detailed classification report:\n",
      "\n",
      "The model is trained on the full development set.\n",
      "The scores are computed on the full evaluation set.\n",
      "\n"
     ]
    }
   ],
   "source": [
    "cv_str, clf = grid_search(model, param_grid, x_train_mod, mode=1)\n",
    "tic = time.time()\n",
    "grid_result = clf.fit(x_train_mod, y_train)\n",
    "toc = time.time()\n",
    "print('\\n' + cv_str +'\\n')\n",
    "print('cross validation time: '+str((toc-tic)/60)+'minuts')\n",
    "grid_results_summary(grid_result)"
   ]
  },
  {
   "cell_type": "code",
   "execution_count": 56,
   "metadata": {},
   "outputs": [
    {
     "name": "stdout",
     "output_type": "stream",
     "text": [
      "              precision    recall  f1-score   support\n",
      "\n",
      "           0       0.71      0.04      0.08       118\n",
      "           1       0.47      0.98      0.64       103\n",
      "\n",
      "   micro avg       0.48      0.48      0.48       221\n",
      "   macro avg       0.59      0.51      0.36       221\n",
      "weighted avg       0.60      0.48      0.34       221\n",
      "\n",
      "Accuracy: 0.4796380090497738\n",
      "\n",
      "Precision: 0.4718480679213398\n",
      "\n",
      "Recall: 0.9805825242718447\n",
      "\n",
      "F1 score: 0.6372239747634069\n",
      "\n",
      "ROC/AUC: 0.5114777028138884\n",
      "\n"
     ]
    }
   ],
   "source": [
    "y_true, y_pred = y_valid, grid_result.predict(x_valid)\n",
    "print(metrics.classification_report(y_true, y_pred))\n",
    "print('Accuracy: '+ str(metrics.accuracy_score(y_true, y_pred))+'\\n')\n",
    "print('Precision: ' + str(metrics.average_precision_score(y_true, y_pred))+'\\n')\n",
    "print('Recall: ' + str(metrics.recall_score(y_true, y_pred)) +'\\n')\n",
    "print('F1 score: '+ str(metrics.f1_score(y_true, y_pred))+'\\n')\n",
    "print('ROC/AUC: '+ str(metrics.roc_auc_score(y_true, y_pred))+'\\n')"
   ]
  },
  {
   "cell_type": "markdown",
   "metadata": {},
   "source": [
    "* Cross validation summary:\n",
    "\n",
    "    The best parameters we found: \n",
    "    \n",
    "    {'batch_size': 1024, 'epochs': 50, 'optimizer': 'RMSprop', 'learn_rate': 0.01, 'init_mode': 'uniform'}"
   ]
  },
  {
   "cell_type": "code",
   "execution_count": 265,
   "metadata": {},
   "outputs": [],
   "source": [
    "model_str = 'CNN'\n",
    "result.loc[model_str,'Accuracy']  = metrics.accuracy_score(y_true, y_pred)\n",
    "result.loc[model_str,'Precision'] = metrics.average_precision_score(y_true, y_pred)\n",
    "result.loc[model_str,'Recall']    = metrics.recall_score(y_true, y_pred)\n",
    "result.loc[model_str,'F1']        = metrics.f1_score(y_true, y_pred)\n",
    "result.loc[model_str,'ROC/AUC']   = metrics.roc_auc_score(y_true, y_pred)"
   ]
  },
  {
   "cell_type": "markdown",
   "metadata": {},
   "source": [
    "### ========================== Hidden Markov Model (HMM) ============================="
   ]
  },
  {
   "cell_type": "code",
   "execution_count": 235,
   "metadata": {},
   "outputs": [],
   "source": [
    "df_hmm = np.column_stack((frac_change, frac_high, frac_low))\n",
    "target_hmm = frac_change.shift(-1)"
   ]
  },
  {
   "cell_type": "markdown",
   "metadata": {},
   "source": [
    "### Split The Dataset"
   ]
  },
  {
   "cell_type": "code",
   "execution_count": 248,
   "metadata": {},
   "outputs": [],
   "source": [
    "split = int(0.7*len(df_hmm))\n",
    "x_train, x_valid, y_valid = df_hmm[:split], df_hmm[split:], target_hmm[split:]"
   ]
  },
  {
   "cell_type": "markdown",
   "metadata": {},
   "source": [
    "### creat and train HMM "
   ]
  },
  {
   "cell_type": "code",
   "execution_count": 249,
   "metadata": {},
   "outputs": [
    {
     "data": {
      "text/plain": [
       "GaussianHMM(algorithm='viterbi', covariance_type='diag', covars_prior=0.01,\n",
       "      covars_weight=1, init_params='stmc', means_prior=0, means_weight=0,\n",
       "      min_covar=0.001, n_components=8, n_iter=10, params='stmc',\n",
       "      random_state=None, startprob_prior=1.0, tol=0.01, transmat_prior=1.0,\n",
       "      verbose=False)"
      ]
     },
     "execution_count": 249,
     "metadata": {},
     "output_type": "execute_result"
    }
   ],
   "source": [
    "from hmmlearn.hmm import GaussianHMM\n",
    "n_hidden_states = 8\n",
    "hmm = GaussianHMM(n_components=n_hidden_states)\n",
    "hmm.fit(x_train)"
   ]
  },
  {
   "cell_type": "markdown",
   "metadata": {},
   "source": [
    "### make prediction"
   ]
  },
  {
   "cell_type": "code",
   "execution_count": 250,
   "metadata": {},
   "outputs": [],
   "source": [
    "import itertools\n",
    "def compute_all_possible_outcomes(n_steps_frac_change=50,\n",
    "                                    n_steps_frac_high=10, n_steps_frac_low=10):\n",
    "    frac_change_range = np.linspace(-0.1, 0.1, n_steps_frac_change)\n",
    "    frac_high_range = np.linspace(0, 0.1, n_steps_frac_high)\n",
    "    frac_low_range = np.linspace(0, 0.1, n_steps_frac_low)\n",
    "\n",
    "    return np.array(list(itertools.product(frac_change_range, frac_high_range, frac_low_range)))\n",
    "\n",
    "def get_most_probable_outcome(df_test,day_index,n_latency_days=5):\n",
    "    previous_data_start_index = max(0, day_index - n_latency_days)\n",
    "    previous_data_end_index = max(0, day_index - 1)\n",
    "    \n",
    "    previous_data_features = df_test[previous_data_start_index:previous_data_end_index]\n",
    "\n",
    "    outcome_score = []\n",
    "    possible_outcomes = compute_all_possible_outcomes()\n",
    "    for possible_outcome in possible_outcomes:\n",
    "        total_data = np.row_stack((previous_data_features, possible_outcome))\n",
    "        outcome_score.append(hmm.score(total_data))\n",
    "        \n",
    "    most_probable_outcome = possible_outcomes[np.argmax(outcome_score)]\n",
    "\n",
    "    return most_probable_outcome\n",
    "\n",
    "predicted_frac_change = []\n",
    "for day in range(len(x_valid)):\n",
    "    predicted_frac_change.append(get_most_probable_outcome(x_valid,day)[0])"
   ]
  },
  {
   "cell_type": "code",
   "execution_count": 259,
   "metadata": {},
   "outputs": [],
   "source": [
    "y_pred = [int(i>0) for i in predicted_frac_change]\n",
    "y_true = [int(i>0) for i in y_valid]"
   ]
  },
  {
   "cell_type": "code",
   "execution_count": 260,
   "metadata": {},
   "outputs": [
    {
     "name": "stdout",
     "output_type": "stream",
     "text": [
      "              precision    recall  f1-score   support\n",
      "\n",
      "           0       0.50      0.01      0.02       115\n",
      "           1       0.51      0.99      0.67       118\n",
      "\n",
      "   micro avg       0.51      0.51      0.51       233\n",
      "   macro avg       0.50      0.50      0.34       233\n",
      "weighted avg       0.50      0.51      0.35       233\n",
      "\n",
      "Accuracy: 0.5064377682403434\n",
      "\n",
      "Precision: 0.5064930341354288\n",
      "\n",
      "Recall: 0.9915254237288136\n",
      "\n",
      "F1 score: 0.6704871060171919\n",
      "\n",
      "ROC/AUC: 0.5001105379513633\n",
      "\n"
     ]
    }
   ],
   "source": [
    "print(metrics.classification_report(y_true, y_pred))\n",
    "print('Accuracy: '+ str(metrics.accuracy_score(y_true, y_pred))+'\\n')\n",
    "print('Precision: ' + str(metrics.average_precision_score(y_true, y_pred))+'\\n')\n",
    "print('Recall: ' + str(metrics.recall_score(y_true, y_pred)) +'\\n')\n",
    "print('F1 score: '+ str(metrics.f1_score(y_true, y_pred))+'\\n')\n",
    "print('ROC/AUC: '+ str(metrics.roc_auc_score(y_true, y_pred))+'\\n')"
   ]
  },
  {
   "cell_type": "code",
   "execution_count": 266,
   "metadata": {},
   "outputs": [],
   "source": [
    "model_str = 'HMM'\n",
    "result.loc[model_str,'Accuracy']  = metrics.accuracy_score(y_true, y_pred)\n",
    "result.loc[model_str,'Precision'] = metrics.average_precision_score(y_true, y_pred)\n",
    "result.loc[model_str,'Recall']    = metrics.recall_score(y_true, y_pred)\n",
    "result.loc[model_str,'F1']        = metrics.f1_score(y_true, y_pred)\n",
    "result.loc[model_str,'ROC/AUC']   = metrics.roc_auc_score(y_true, y_pred)"
   ]
  },
  {
   "cell_type": "markdown",
   "metadata": {},
   "source": [
    "### ========================== Long Short Term Memory (LSTM) ============================="
   ]
  },
  {
   "cell_type": "code",
   "execution_count": 57,
   "metadata": {},
   "outputs": [],
   "source": [
    "from keras.layers import LSTM\n",
    "from sklearn.preprocessing import MinMaxScaler"
   ]
  },
  {
   "cell_type": "markdown",
   "metadata": {},
   "source": [
    "### Feature Scaling"
   ]
  },
  {
   "cell_type": "code",
   "execution_count": 62,
   "metadata": {},
   "outputs": [],
   "source": [
    "lstm_df = df[['Open']]\n",
    "sc = MinMaxScaler(feature_range = (0, 1))\n",
    "lstm_df_scaled = sc.fit_transform(lstm_df)"
   ]
  },
  {
   "cell_type": "markdown",
   "metadata": {},
   "source": [
    "### Split The Dataset"
   ]
  },
  {
   "cell_type": "code",
   "execution_count": 201,
   "metadata": {},
   "outputs": [],
   "source": [
    "split = int(0.7*len(lstm_df_scaled))\n",
    "x_train, x_valid = lstm_df_scaled[:split], lstm_df_scaled[split:]"
   ]
  },
  {
   "cell_type": "code",
   "execution_count": 261,
   "metadata": {},
   "outputs": [],
   "source": [
    "def generate_lstm_df(df, lookback=60):\n",
    "    X = []\n",
    "    y = []\n",
    "    for i in range(lookback, len(df)):\n",
    "        X.append(df[i - lookback:i, 0])\n",
    "        y.append(np.where(df[i, 0]>df[i-1, 0],1,0))\n",
    "#         y.append(np.where(df[i, 0]>df[i-1, 0],1,0))\n",
    "    X, y = np.array(X), np.array(y)\n",
    "\n",
    "    # Reshaping\n",
    "    X = np.reshape(X, (X.shape[0], X.shape[1], 1))\n",
    "    \n",
    "    return X, y"
   ]
  },
  {
   "cell_type": "code",
   "execution_count": 262,
   "metadata": {},
   "outputs": [],
   "source": [
    "x_train_lstm,y_train_lstm = generate_lstm_df(x_train, 60)\n",
    "# y_train_lstm = keras.utils.to_categorical(y_train_lstm, 2)"
   ]
  },
  {
   "cell_type": "markdown",
   "metadata": {},
   "source": [
    "### Check if the dataset has class imbalance issue"
   ]
  },
  {
   "cell_type": "code",
   "execution_count": 263,
   "metadata": {},
   "outputs": [
    {
     "name": "stdout",
     "output_type": "stream",
     "text": [
      "Positive case : Negative case =  0.48132780082987553 : 0.5186721991701245\n"
     ]
    }
   ],
   "source": [
    "print('Positive case : Negative case = ',\n",
    "      str(sum(y_train_lstm==1)/len(y_train_lstm)),':',str(sum(y_train_lstm==0)/len(y_train_lstm)))"
   ]
  },
  {
   "cell_type": "markdown",
   "metadata": {},
   "source": [
    "The numbers of samples in these two classes are close. \n",
    "\n",
    "This dataset doesn't have class imbalance problem."
   ]
  },
  {
   "cell_type": "markdown",
   "metadata": {},
   "source": [
    "### Creat lstm model"
   ]
  },
  {
   "cell_type": "code",
   "execution_count": 209,
   "metadata": {},
   "outputs": [],
   "source": [
    "input_shape = (x_train.shape[1]-60, 1)\n",
    "\n",
    "def create_lstm(neurons=60):\n",
    "    \n",
    "    model = Sequential()\n",
    "    model.add(Dense(neurons, kernel_initializer='uniform', \n",
    "                    activation='linear'))\n",
    "    model.add(LSTM(units = 50, return_sequences = True, input_shape = input_shape))\n",
    "    model.add(Dropout(0.2))\n",
    "    \n",
    "    model.add(LSTM(units = 50))\n",
    "    model.add(Dropout(0.2))\n",
    "    \n",
    "#     model.add(Dense(units = 1))\n",
    "    # use lstm to predict stock movement direction (up/down)\n",
    "    model.add(Dense(2, activation='softmax'))\n",
    "    model.compile(optimizer = 'adam', loss = 'categorical_crossentropy',metrics=['accuracy'])\n",
    "    \n",
    "    return model"
   ]
  },
  {
   "cell_type": "markdown",
   "metadata": {},
   "source": [
    "### Tune the parameters"
   ]
  },
  {
   "cell_type": "markdown",
   "metadata": {},
   "source": [
    "* tune batch_size and epochs\n",
    "    \n",
    "    Normal cross validation"
   ]
  },
  {
   "cell_type": "code",
   "execution_count": 176,
   "metadata": {},
   "outputs": [],
   "source": [
    "model = KerasClassifier(build_fn=create_lstm, verbose=0)\n",
    "\n",
    "batch_size = [64, 256, 1024]\n",
    "epochs = [20, 50, 100]\n",
    "\n",
    "param_grid = dict(batch_size=batch_size, epochs=epochs)\n",
    "\n",
    "cv_str, clf = grid_search(model, param_grid, x_train, mode=0)"
   ]
  },
  {
   "cell_type": "code",
   "execution_count": 177,
   "metadata": {},
   "outputs": [
    {
     "name": "stdout",
     "output_type": "stream",
     "text": [
      "\n",
      "Normal cv\n",
      "\n",
      "cross validation time: 11.216258915265401minuts\n",
      "\n",
      " Best parameters set found on development set: \n",
      "\n",
      "{'batch_size': 32, 'epochs': 50}\n",
      "\n",
      " Grid scores on development set: \n",
      "\n",
      "0.000 (+/-0.000) for {'batch_size': 32, 'epochs': 50}\n",
      "0.000 (+/-0.000) for {'batch_size': 32, 'epochs': 100}\n",
      "0.000 (+/-0.000) for {'batch_size': 256, 'epochs': 50}\n",
      "0.000 (+/-0.000) for {'batch_size': 256, 'epochs': 100}\n",
      "0.000 (+/-0.000) for {'batch_size': 1024, 'epochs': 50}\n",
      "0.000 (+/-0.000) for {'batch_size': 1024, 'epochs': 100}\n",
      "\n",
      " Detailed classification report:\n",
      "\n",
      "The model is trained on the full development set.\n",
      "The scores are computed on the full evaluation set.\n",
      "\n"
     ]
    }
   ],
   "source": [
    "tic = time.time()\n",
    "grid_result = clf.fit(x_train_lstm,y_train_lstm)\n",
    "toc = time.time()\n",
    "print('\\n' + cv_str +'\\n')\n",
    "print('cross validation time: '+str((toc-tic)/60)+'minuts')\n",
    "grid_results_summary(grid_result)"
   ]
  },
  {
   "cell_type": "code",
   "execution_count": 172,
   "metadata": {},
   "outputs": [],
   "source": [
    "x_valid_lstm, y_valid_lstm = generate_lstm_df(x_valid)\n",
    "y_valid_lstm = keras.utils.to_categorical(y_valid_lstm, 2)"
   ]
  },
  {
   "cell_type": "code",
   "execution_count": 178,
   "metadata": {},
   "outputs": [
    {
     "name": "stdout",
     "output_type": "stream",
     "text": [
      "              precision    recall  f1-score   support\n",
      "\n",
      "          -1       0.52      1.00      0.68       104\n",
      "           1       0.00      0.00      0.00        97\n",
      "\n",
      "   micro avg       0.52      0.52      0.52       201\n",
      "   macro avg       0.26      0.50      0.34       201\n",
      "weighted avg       0.27      0.52      0.35       201\n",
      "\n",
      "Accuracy: 0.5174129353233831\n",
      "\n",
      "Precision: 0.48258706467661694\n",
      "\n",
      "Recall: 0.0\n",
      "\n",
      "F1 score: 0.0\n",
      "\n",
      "ROC/AUC: 0.5\n",
      "\n"
     ]
    }
   ],
   "source": [
    "y_true, y_pred = y_valid_lstm, grid_result.predict(x_valid_lstm)\n",
    "print(metrics.classification_report(y_true, y_pred))\n",
    "print('Accuracy: '+ str(metrics.accuracy_score(y_true, y_pred))+'\\n')\n",
    "print('Precision: ' + str(metrics.average_precision_score(y_true, y_pred))+'\\n')\n",
    "print('Recall: ' + str(metrics.recall_score(y_true, y_pred)) +'\\n')\n",
    "print('F1 score: '+ str(metrics.f1_score(y_true, y_pred))+'\\n')\n",
    "print('ROC/AUC: '+ str(metrics.roc_auc_score(y_true, y_pred))+'\\n')"
   ]
  },
  {
   "cell_type": "markdown",
   "metadata": {},
   "source": [
    "* tune batch_size and epochs\n",
    "    \n",
    "    TimeSeriesSplit cross validation"
   ]
  },
  {
   "cell_type": "code",
   "execution_count": 129,
   "metadata": {},
   "outputs": [
    {
     "name": "stdout",
     "output_type": "stream",
     "text": [
      "\n",
      "TimeSeriesSplit cv\n",
      "\n",
      "cross validation time: 7.634357198079427minuts\n",
      "\n",
      " Best parameters set found on development set: \n",
      "\n",
      "{'batch_size': 32, 'epochs': 50}\n",
      "\n",
      " Grid scores on development set: \n",
      "\n",
      "0.417 (+/-0.482) for {'batch_size': 32, 'epochs': 10}\n",
      "0.547 (+/-0.043) for {'batch_size': 32, 'epochs': 50}\n",
      "0.547 (+/-0.043) for {'batch_size': 32, 'epochs': 100}\n",
      "0.000 (+/-0.000) for {'batch_size': 256, 'epochs': 10}\n",
      "0.547 (+/-0.043) for {'batch_size': 256, 'epochs': 50}\n",
      "0.547 (+/-0.043) for {'batch_size': 256, 'epochs': 100}\n",
      "0.000 (+/-0.000) for {'batch_size': 1024, 'epochs': 10}\n",
      "0.547 (+/-0.043) for {'batch_size': 1024, 'epochs': 50}\n",
      "0.547 (+/-0.043) for {'batch_size': 1024, 'epochs': 100}\n",
      "\n",
      " Detailed classification report:\n",
      "\n",
      "The model is trained on the full development set.\n",
      "The scores are computed on the full evaluation set.\n",
      "\n"
     ]
    }
   ],
   "source": [
    "cv_str, clf = grid_search(model, param_grid, x_train_lstm, mode=1)\n",
    "tic = time.time()\n",
    "grid_result = clf.fit(x_train_lstm,y_train_lstm)\n",
    "toc = time.time()\n",
    "print('\\n' + cv_str +'\\n')\n",
    "print('cross validation time: '+str((toc-tic)/60)+'minuts')\n",
    "grid_results_summary(grid_result)"
   ]
  },
  {
   "cell_type": "code",
   "execution_count": 131,
   "metadata": {},
   "outputs": [
    {
     "name": "stdout",
     "output_type": "stream",
     "text": [
      "              precision    recall  f1-score   support\n",
      "\n",
      "           0       0.00      0.00      0.00       109\n",
      "           1       0.46      1.00      0.63        92\n",
      "\n",
      "   micro avg       0.46      0.46      0.46       201\n",
      "   macro avg       0.23      0.50      0.31       201\n",
      "weighted avg       0.21      0.46      0.29       201\n",
      "\n",
      "Accuracy: 0.4577114427860697\n",
      "\n",
      "Precision: 0.4577114427860697\n",
      "\n",
      "Recall: 1.0\n",
      "\n",
      "F1 score: 0.6279863481228669\n",
      "\n",
      "ROC/AUC: 0.5\n",
      "\n"
     ]
    }
   ],
   "source": [
    "y_true, y_pred = y_valid, grid_result.predict(x_valid_lstm)\n",
    "print(metrics.classification_report(y_true, y_pred))\n",
    "print('Accuracy: '+ str(metrics.accuracy_score(y_true, y_pred))+'\\n')\n",
    "print('Precision: ' + str(metrics.average_precision_score(y_true, y_pred))+'\\n')\n",
    "print('Recall: ' + str(metrics.recall_score(y_true, y_pred)) +'\\n')\n",
    "print('F1 score: '+ str(metrics.f1_score(y_true, y_pred))+'\\n')\n",
    "print('ROC/AUC: '+ str(metrics.roc_auc_score(y_true, y_pred))+'\\n')"
   ]
  },
  {
   "cell_type": "markdown",
   "metadata": {},
   "source": [
    "* tune batch_size and epochs\n",
    "    \n",
    "    TimeSeriesSplit cross validation with a fixed training size"
   ]
  },
  {
   "cell_type": "code",
   "execution_count": 134,
   "metadata": {},
   "outputs": [
    {
     "name": "stdout",
     "output_type": "stream",
     "text": [
      "\n",
      "TimeSeriesSplit cv (fixed)\n",
      "\n",
      "cross validation time: 8.00506525039673minuts\n",
      "\n",
      " Best parameters set found on development set: \n",
      "\n",
      "{'batch_size': 32, 'epochs': 100}\n",
      "\n",
      " Grid scores on development set: \n",
      "\n",
      "0.272 (+/-0.545) for {'batch_size': 32, 'epochs': 50}\n",
      "0.547 (+/-0.043) for {'batch_size': 32, 'epochs': 100}\n",
      "0.403 (+/-0.466) for {'batch_size': 256, 'epochs': 50}\n",
      "0.403 (+/-0.466) for {'batch_size': 256, 'epochs': 100}\n",
      "0.547 (+/-0.043) for {'batch_size': 1024, 'epochs': 50}\n",
      "0.547 (+/-0.043) for {'batch_size': 1024, 'epochs': 100}\n",
      "\n",
      " Detailed classification report:\n",
      "\n",
      "The model is trained on the full development set.\n",
      "The scores are computed on the full evaluation set.\n",
      "\n"
     ]
    }
   ],
   "source": [
    "cv_str, clf = grid_search(model, param_grid, x_train_lstm, mode=2)\n",
    "tic = time.time()\n",
    "grid_result = clf.fit(x_train_lstm,y_train_lstm)\n",
    "toc = time.time()\n",
    "print('\\n' + cv_str +'\\n')\n",
    "print('cross validation time: '+str((toc-tic)/60)+'minuts')\n",
    "grid_results_summary(grid_result)"
   ]
  },
  {
   "cell_type": "code",
   "execution_count": 136,
   "metadata": {},
   "outputs": [
    {
     "name": "stdout",
     "output_type": "stream",
     "text": [
      "              precision    recall  f1-score   support\n",
      "\n",
      "           0       0.00      0.00      0.00       109\n",
      "           1       0.46      1.00      0.63        92\n",
      "\n",
      "   micro avg       0.46      0.46      0.46       201\n",
      "   macro avg       0.23      0.50      0.31       201\n",
      "weighted avg       0.21      0.46      0.29       201\n",
      "\n",
      "Accuracy: 0.4577114427860697\n",
      "\n",
      "Precision: 0.4577114427860697\n",
      "\n",
      "Recall: 1.0\n",
      "\n",
      "F1 score: 0.6279863481228669\n",
      "\n",
      "ROC/AUC: 0.5\n",
      "\n"
     ]
    }
   ],
   "source": [
    "y_true, y_pred = y_valid, grid_result.predict(x_valid_lstm)\n",
    "print(metrics.classification_report(y_true, y_pred))\n",
    "print('Accuracy: '+ str(metrics.accuracy_score(y_true, y_pred))+'\\n')\n",
    "print('Precision: ' + str(metrics.average_precision_score(y_true, y_pred))+'\\n')\n",
    "print('Recall: ' + str(metrics.recall_score(y_true, y_pred)) +'\\n')\n",
    "print('F1 score: '+ str(metrics.f1_score(y_true, y_pred))+'\\n')\n",
    "print('ROC/AUC: '+ str(metrics.roc_auc_score(y_true, y_pred))+'\\n')"
   ]
  },
  {
   "cell_type": "markdown",
   "metadata": {},
   "source": [
    "* tune lookback window size\n",
    "\n",
    "    TimeSeriesSplit cross validation"
   ]
  },
  {
   "cell_type": "code",
   "execution_count": 137,
   "metadata": {},
   "outputs": [],
   "source": [
    "model = KerasClassifier(build_fn=create_lstm, epochs=100, batch_size=1024, verbose=0)\n",
    "neurons = [1,10,30,60]\n",
    "param_grid = dict(neurons=neurons)"
   ]
  },
  {
   "cell_type": "code",
   "execution_count": 139,
   "metadata": {},
   "outputs": [
    {
     "name": "stdout",
     "output_type": "stream",
     "text": [
      "\n",
      "TimeSeriesSplit cv\n",
      "\n",
      "cross validation time: 3.0309064547220865minuts\n",
      "\n",
      " Best parameters set found on development set: \n",
      "\n",
      "{'neurons': 1}\n",
      "\n",
      " Grid scores on development set: \n",
      "\n",
      "0.547 (+/-0.043) for {'neurons': 1}\n",
      "0.547 (+/-0.043) for {'neurons': 2}\n",
      "0.547 (+/-0.043) for {'neurons': 3}\n",
      "\n",
      " Detailed classification report:\n",
      "\n",
      "The model is trained on the full development set.\n",
      "The scores are computed on the full evaluation set.\n",
      "\n"
     ]
    }
   ],
   "source": [
    "cv_str, clf = grid_search(model, param_grid, x_train_lstm, mode=1)\n",
    "tic = time.time()\n",
    "grid_result = clf.fit(x_train_lstm,y_train_lstm)\n",
    "toc = time.time()\n",
    "print('\\n' + cv_str +'\\n')\n",
    "print('cross validation time: '+str((toc-tic)/60)+'minuts')\n",
    "grid_results_summary(grid_result)"
   ]
  },
  {
   "cell_type": "code",
   "execution_count": 140,
   "metadata": {},
   "outputs": [
    {
     "name": "stdout",
     "output_type": "stream",
     "text": [
      "              precision    recall  f1-score   support\n",
      "\n",
      "           0       0.00      0.00      0.00       109\n",
      "           1       0.46      1.00      0.63        92\n",
      "\n",
      "   micro avg       0.46      0.46      0.46       201\n",
      "   macro avg       0.23      0.50      0.31       201\n",
      "weighted avg       0.21      0.46      0.29       201\n",
      "\n",
      "Accuracy: 0.4577114427860697\n",
      "\n",
      "Precision: 0.4577114427860697\n",
      "\n",
      "Recall: 1.0\n",
      "\n",
      "F1 score: 0.6279863481228669\n",
      "\n",
      "ROC/AUC: 0.5\n",
      "\n"
     ]
    }
   ],
   "source": [
    "y_true, y_pred = y_valid, grid_result.predict(x_valid_lstm)\n",
    "print(metrics.classification_report(y_true, y_pred))\n",
    "print('Accuracy: '+ str(metrics.accuracy_score(y_true, y_pred))+'\\n')\n",
    "print('Precision: ' + str(metrics.average_precision_score(y_true, y_pred))+'\\n')\n",
    "print('Recall: ' + str(metrics.recall_score(y_true, y_pred)) +'\\n')\n",
    "print('F1 score: '+ str(metrics.f1_score(y_true, y_pred))+'\\n')\n",
    "print('ROC/AUC: '+ str(metrics.roc_auc_score(y_true, y_pred))+'\\n')"
   ]
  },
  {
   "cell_type": "markdown",
   "metadata": {},
   "source": [
    "* Cross validation summary:\n",
    "\n",
    "    The best parameters we found: \n",
    "    \n",
    "    {'batch_size': 32, 'epochs': 100, 'neurons':1}"
   ]
  },
  {
   "cell_type": "markdown",
   "metadata": {},
   "source": [
    "### Visualize Model Training History"
   ]
  },
  {
   "cell_type": "code",
   "execution_count": 108,
   "metadata": {},
   "outputs": [],
   "source": [
    "def visualize_loss(history):\n",
    "    plt.plot(history.history['loss'])\n",
    "    plt.plot(history.history['val_loss'])\n",
    "    plt.title('model loss')\n",
    "    plt.ylabel('loss')\n",
    "    plt.xlabel('epoch')\n",
    "    plt.legend(['train', 'test'], loc='upper left')\n",
    "    plt.show()"
   ]
  },
  {
   "cell_type": "code",
   "execution_count": 142,
   "metadata": {},
   "outputs": [],
   "source": [
    "model = create_lstm(neurons=1)\n",
    "history = model.fit(x_train_lstm,y_train_lstm,epochs = 100, batch_size = 32,\n",
    "                    validation_split=0.33, verbose=0)"
   ]
  },
  {
   "cell_type": "code",
   "execution_count": 143,
   "metadata": {},
   "outputs": [
    {
     "data": {
      "image/png": "[encoded data removed]",
      "text/plain": [
       "<Figure size 432x288 with 1 Axes>"
      ]
     },
     "metadata": {
      "needs_background": "light"
     },
     "output_type": "display_data"
    }
   ],
   "source": [
    "visualize_loss(history)"
   ]
  },
  {
   "cell_type": "code",
   "execution_count": 267,
   "metadata": {},
   "outputs": [],
   "source": [
    "model_str = 'LSTM'\n",
    "result.loc[model_str,'Accuracy']  = metrics.accuracy_score(y_true, y_pred)\n",
    "result.loc[model_str,'Precision'] = metrics.average_precision_score(y_true, y_pred)\n",
    "result.loc[model_str,'Recall']    = metrics.recall_score(y_true, y_pred)\n",
    "result.loc[model_str,'F1']        = metrics.f1_score(y_true, y_pred)\n",
    "result.loc[model_str,'ROC/AUC']   = metrics.roc_auc_score(y_true, y_pred)"
   ]
  },
  {
   "cell_type": "markdown",
   "metadata": {},
   "source": [
    "### conclusion"
   ]
  },
  {
   "cell_type": "code",
   "execution_count": 268,
   "metadata": {},
   "outputs": [
    {
     "name": "stdout",
     "output_type": "stream",
     "text": [
      "      Accuracy  Precision  Recall      F1  ROC/AUC\n",
      "CNN     0.4796     0.4718  0.9806  0.6372   0.5115\n",
      "HMM     0.5064     0.5069  0.9915  0.6705   0.5002\n",
      "LSTM    0.4577     0.4577  1.0000  0.6280   0.5000\n"
     ]
    }
   ],
   "source": [
    "print(result)"
   ]
  },
  {
   "cell_type": "markdown",
   "metadata": {},
   "source": [
    "HMM performs the best for my dataset (daily, SSE Composite Index('000001.SS'), from 20160101 to 20190310) with the accuracy 51%, precision 51%, recall 99%, f167%,auc 50%."
   ]
  },
  {
   "cell_type": "markdown",
   "metadata": {},
   "source": [
    "linjuan 20190508"
   ]
  }
 ],
 "metadata": {
  "kernelspec": {
   "display_name": "Python 3",
   "language": "python",
   "name": "python3"
  },
  "language_info": {
   "codemirror_mode": {
    "name": "ipython",
    "version": 3
   },
   "file_extension": ".py",
   "mimetype": "text/x-python",
   "name": "python",
   "nbconvert_exporter": "python",
   "pygments_lexer": "ipython3",
   "version": "3.6.8"
  }
 },
 "nbformat": 4,
 "nbformat_minor": 2
}
