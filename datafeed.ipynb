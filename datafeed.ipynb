{
 "cells": [
  {
   "cell_type": "code",
   "execution_count": 2,
   "metadata": {},
   "outputs": [],
   "source": [
    "import pandas as pd\n",
    "import os\n",
    "import pickle"
   ]
  },
  {
   "cell_type": "code",
   "execution_count": 4,
   "metadata": {},
   "outputs": [
    {
     "name": "stdout",
     "output_type": "stream",
     "text": [
      "US: import and pickle successfully\n",
      "HK: import and pickle successfully\n",
      "China: import and pickle successfully\n"
     ]
    }
   ],
   "source": [
    "\n",
    "\n",
    "class DataFeed():\n",
    "    \n",
    "    def __init__(self, path, market='China'):\n",
    "        \n",
    "        self.market = market\n",
    "        self.path = os.path.join(path, market)\n",
    "        \n",
    "    def dict_data(self):\n",
    "        \n",
    "        dir_name = os.path.join(self.path,'data')\n",
    "        # read all data file under the data folder\n",
    "        file_names = os.listdir(dir_name)        \n",
    "        data_dict = {}\n",
    "        for each_file in file_names:\n",
    "            each_table = pd.read_csv(os.path.join(dir_name, each_file), header=0, index_col=0, low_memory=False)\n",
    "            data_dict[each_file[:-4]] = each_table\n",
    "            # data_dict[each_file.rstrip('.csv')] = each_table ??            \n",
    "        \n",
    "        return data_dict\n",
    "            \n",
    "    def pickle_data(self):\n",
    "               \n",
    "        data_dict = self.dict_data()\n",
    "        with open(self.market + '.pickle', 'wb') as f:\n",
    "            pickle.dump(data_dict, f, pickle.HIGHEST_PROTOCOL)\n",
    "            \n",
    "        print(self.market + ': import and pickle successfully')\n",
    "            \n",
    "\n",
    "def test():\n",
    "    market = ['US', 'HK', 'China']\n",
    "    path = os.path.abspath('./')\n",
    "    for each_mkt in market:\n",
    "        os.chdir(os.path.join(path, each_mkt))\n",
    "        df = DataFeed(path, each_mkt)\n",
    "        df.pickle_data()      \n",
    "\n",
    "if __name__ == \"__main__\":\n",
    "    test()"
   ]
  },
  {
   "cell_type": "code",
   "execution_count": null,
   "metadata": {},
   "outputs": [],
   "source": []
  }
 ],
 "metadata": {
  "kernelspec": {
   "display_name": "Python 2",
   "language": "python",
   "name": "python2"
  },
  "language_info": {
   "codemirror_mode": {
    "name": "ipython",
    "version": 2
   },
   "file_extension": ".py",
   "mimetype": "text/x-python",
   "name": "python",
   "nbconvert_exporter": "python",
   "pygments_lexer": "ipython2",
   "version": "2.7.15"
  }
 },
 "nbformat": 4,
 "nbformat_minor": 2
}
